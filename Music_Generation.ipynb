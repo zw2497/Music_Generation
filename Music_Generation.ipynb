{
  "nbformat": 4,
  "nbformat_minor": 0,
  "metadata": {
    "colab": {
      "name": "Music_Generation.ipynb",
      "version": "0.3.2",
      "provenance": [],
      "collapsed_sections": [],
      "toc_visible": true,
      "include_colab_link": true
    },
    "kernelspec": {
      "display_name": "Python 3",
      "name": "python3"
    },
    "accelerator": "GPU"
  },
  "cells": [
    {
      "cell_type": "markdown",
      "metadata": {
        "id": "view-in-github",
        "colab_type": "text"
      },
      "source": [
        "<a href=\"https://colab.research.google.com/github/zw2497/Music_Generation/blob/master/Music_Generation.ipynb\" target=\"_parent\"><img src=\"https://colab.research.google.com/assets/colab-badge.svg\" alt=\"Open In Colab\"/></a>"
      ]
    },
    {
      "cell_type": "markdown",
      "metadata": {
        "colab_type": "text",
        "id": "hcD2nPQvPOFM"
      },
      "source": [
        "# Music generation with an RNN"
      ]
    },
    {
      "cell_type": "markdown",
      "metadata": {
        "colab_type": "text",
        "id": "WGyKZj3bzf9p"
      },
      "source": [
        "### Import TensorFlow and other libraries"
      ]
    },
    {
      "cell_type": "code",
      "metadata": {
        "colab_type": "code",
        "id": "yG_n40gFzf9s",
        "colab": {}
      },
      "source": [
        "from __future__ import absolute_import, division, print_function, unicode_literals\n",
        "\n",
        "!pip -q install tensorflow-gpu==2.0.0-alpha0\n",
        "import tensorflow as tf\n",
        "\n",
        "import numpy as np\n",
        "import os\n",
        "import time\n",
        "\n",
        "!apt-get install abcmidi timidity > /dev/null 2>&1"
      ],
      "execution_count": 0,
      "outputs": []
    },
    {
      "cell_type": "code",
      "metadata": {
        "id": "tSvaiaaN0_ys",
        "colab_type": "code",
        "colab": {}
      },
      "source": [
        "import subprocess\n",
        "import regex as re\n",
        "\n",
        "\n",
        "def extract_song_snippet(generated_text):\n",
        "    pattern = '\\n\\n(.*?)\\n\\n'\n",
        "    search_results = re.findall(pattern, generated_text, overlapped=True, flags=re.DOTALL)\n",
        "    songs = [song for song in search_results]\n",
        "    print (\"Found {} possible songs in generated texts\".format(len(songs)))\n",
        "    return songs\n",
        "\n",
        "def save_song_to_abc(song, filename=\"tmp\"):\n",
        "    save_name = \"{}.abc\".format(filename)\n",
        "    with open(save_name, \"w\") as f:\n",
        "        f.write(song)\n",
        "    return filename\n",
        "\n",
        "def abc2wav(abc_file):\n",
        "    cmd = \"\"\"abc2midi '{name}.abc' -o '{name}.mid'\"\"\".format(name=abc_file)\n",
        "    res = os.system(cmd)\n",
        "    cmd = \"\"\"timidity '{name}.mid' -Ow '{name}.wav'\"\"\".format(name=abc_file)\n",
        "    res += os.system(cmd)\n",
        "    cmd = \"\"\"rm '{name}.abc' '{name}.mid'\"\"\".format(name=abc_file)\n",
        "    res += os.system(cmd)\n",
        "    return res\n",
        "\n",
        "def play_wav(wav_file):\n",
        "    from IPython.display import Audio\n",
        "    return Audio(wav_file)\n",
        "\n",
        "def play_generated_song(generated_text):\n",
        "    import IPython\n",
        "    songs = extract_song_snippet(generated_text)\n",
        "    n = 0\n",
        "    if len(songs) == 0:\n",
        "        print(\"No valid songs found in generated text. Try training the model longer or increasing the amount of generated music to ensure complete songs are generated!\")\n",
        "    \n",
        "    for song in songs:\n",
        "        basename = save_song_to_abc(song, filename='song' + str(int(time.time())))\n",
        "        ret = abc2wav(basename)\n",
        "        if ret == 0: #did not suceed\n",
        "            print(basename)\n",
        "            IPython.display.display(play_wav(basename+'.wav'))\n",
        "            n += 1\n",
        "            if n > 2:\n",
        "                return"
      ],
      "execution_count": 0,
      "outputs": []
    },
    {
      "cell_type": "markdown",
      "metadata": {
        "colab_type": "text",
        "id": "EHDoRoc5PKWz"
      },
      "source": [
        "### Download the ABC Music dataset"
      ]
    },
    {
      "cell_type": "code",
      "metadata": {
        "id": "hQyMvXPC1Gk1",
        "colab_type": "code",
        "colab": {}
      },
      "source": [
        "path_to_file = tf.keras.utils.get_file('irish.abc', \\\n",
        "                                       'https://raw.githubusercontent.com/zw2497/Music_Generation/master/data/irish.abc')\n"
      ],
      "execution_count": 0,
      "outputs": []
    },
    {
      "cell_type": "markdown",
      "metadata": {
        "colab_type": "text",
        "id": "UHjdCjDuSvX_"
      },
      "source": [
        "### Read the data\n",
        "\n",
        "First, look in the text:"
      ]
    },
    {
      "cell_type": "code",
      "metadata": {
        "colab_type": "code",
        "id": "aavnuByVymwK",
        "outputId": "6aeee7c6-d021-43fe-8f73-8ba9b579cb59",
        "colab": {
          "base_uri": "https://localhost:8080/",
          "height": 34
        }
      },
      "source": [
        "# Read, then decode for py2 compat.\n",
        "text = open(path_to_file, 'rb').read().decode(encoding='utf-8')\n",
        "# length of text is the number of characters in it\n",
        "print ('Length of text: {} characters'.format(len(text)))"
      ],
      "execution_count": 0,
      "outputs": [
        {
          "output_type": "stream",
          "text": [
            "Length of text: 197618 characters\n"
          ],
          "name": "stdout"
        }
      ]
    },
    {
      "cell_type": "code",
      "metadata": {
        "colab_type": "code",
        "id": "Duhg9NrUymwO",
        "outputId": "7ea874dd-71e1-4840-af2e-7923790efb0e",
        "colab": {
          "base_uri": "https://localhost:8080/",
          "height": 187
        }
      },
      "source": [
        "# Take a look at the first 250 characters in text\n",
        "print(text[:250])"
      ],
      "execution_count": 0,
      "outputs": [
        {
          "output_type": "stream",
          "text": [
            "X:1\n",
            "T:Alexander's\n",
            "Z: id:dc-hornpipe-1\n",
            "M:C|\n",
            "L:1/8\n",
            "K:D Major\n",
            "(3ABc|dAFA DFAd|fdcd FAdf|gfge fefd|(3efe (3dcB A2 (3ABc|!\n",
            "dAFA DFAd|fdcd FAdf|gfge fefd|(3efe dc d2:|!\n",
            "AG|FAdA FAdA|GBdB GBdB|Acec Acec|dfaf gecA|!\n",
            "FAdA FAdA|GBdB GBdB|Aceg fefd|(3efe dc d2:\n"
          ],
          "name": "stdout"
        }
      ]
    },
    {
      "cell_type": "code",
      "metadata": {
        "colab_type": "code",
        "id": "IlCgQBRVymwR",
        "colab": {}
      },
      "source": [
        "# The unique characters in the file\n",
        "vocab = sorted(set(text))\n",
        "print ('{} unique characters'.format(len(vocab)))"
      ],
      "execution_count": 0,
      "outputs": []
    },
    {
      "cell_type": "markdown",
      "metadata": {
        "colab_type": "text",
        "id": "rNnrKn_lL-IJ"
      },
      "source": [
        "## Process the text"
      ]
    },
    {
      "cell_type": "markdown",
      "metadata": {
        "colab_type": "text",
        "id": "LFjSVAlWzf-N"
      },
      "source": [
        "### Vectorize the text\n",
        "\n",
        "Before training, we need to map strings to a numerical representation. Create two lookup tables: one mapping characters to numbers, and another for numbers to characters."
      ]
    },
    {
      "cell_type": "code",
      "metadata": {
        "colab_type": "code",
        "id": "IalZLbvOzf-F",
        "colab": {}
      },
      "source": [
        "# Creating a mapping from unique characters to indices\n",
        "char2idx = {u:i for i, u in enumerate(vocab)}\n",
        "idx2char = np.array(vocab)\n",
        "\n",
        "text_as_int = np.array([char2idx[c] for c in text])"
      ],
      "execution_count": 0,
      "outputs": []
    },
    {
      "cell_type": "markdown",
      "metadata": {
        "colab_type": "text",
        "id": "tZfqhkYCymwX"
      },
      "source": [
        "Now we have an integer representation for each character. Notice that we mapped the character as indexes from 0 to `len(unique)`."
      ]
    },
    {
      "cell_type": "code",
      "metadata": {
        "colab_type": "code",
        "id": "FYyNlCNXymwY",
        "colab": {}
      },
      "source": [
        "print('{')\n",
        "for char,_ in zip(char2idx, range(20)):\n",
        "    print('  {:4s}: {:3d},'.format(repr(char), char2idx[char]))\n",
        "print('  ...\\n}')"
      ],
      "execution_count": 0,
      "outputs": []
    },
    {
      "cell_type": "code",
      "metadata": {
        "colab_type": "code",
        "id": "l1VKcQHcymwb",
        "colab": {}
      },
      "source": [
        "# Show how the first 13 characters from the text are mapped to integers\n",
        "print ('{} ---- characters mapped to int ---- > {}'.format(repr(text[:13]), text_as_int[:13]))"
      ],
      "execution_count": 0,
      "outputs": []
    },
    {
      "cell_type": "markdown",
      "metadata": {
        "colab_type": "text",
        "id": "bbmsf23Bymwe"
      },
      "source": [
        "### The prediction task"
      ]
    },
    {
      "cell_type": "markdown",
      "metadata": {
        "colab_type": "text",
        "id": "wssHQ1oGymwe"
      },
      "source": [
        "Given a character, or a sequence of characters, what is the most probable next character? This is the task we're training the model to perform. The input to the model will be a sequence of characters, and we train the model to predict the output—the following character at each time step.\n",
        "\n",
        "Since RNNs maintain an internal state that depends on the previously seen elements, given all the characters computed until this moment, what is the next character?\n"
      ]
    },
    {
      "cell_type": "markdown",
      "metadata": {
        "colab_type": "text",
        "id": "hgsVvVxnymwf"
      },
      "source": [
        "### Create training examples and targets\n",
        "\n",
        "Next divide the text into example sequences. Each input sequence will contain `seq_length` characters from the text.\n",
        "\n",
        "For each input sequence, the corresponding targets contain the same length of text, except shifted one character to the right.\n",
        "\n",
        "So break the text into chunks of `seq_length+1`.\n",
        "\n",
        "To do this first use the `tf.data.Dataset.from_tensor_slices` function to convert the text vector into a stream of character indices."
      ]
    },
    {
      "cell_type": "code",
      "metadata": {
        "colab_type": "code",
        "id": "0UHJDA39zf-O",
        "colab": {}
      },
      "source": [
        "# The maximum length sentence we want for a single input in characters\n",
        "seq_length = 200\n",
        "examples_per_epoch = len(text)//seq_length\n",
        "\n",
        "# Create training examples / targets\n",
        "char_dataset = tf.data.Dataset.from_tensor_slices(text_as_int)\n",
        "\n",
        "for i in char_dataset.take(10):\n",
        "    print(idx2char[i.numpy()])"
      ],
      "execution_count": 0,
      "outputs": []
    },
    {
      "cell_type": "markdown",
      "metadata": {
        "colab_type": "text",
        "id": "-ZSYAcQV8OGP"
      },
      "source": [
        "The `batch` method lets us easily convert these individual characters to sequences of the desired size."
      ]
    },
    {
      "cell_type": "code",
      "metadata": {
        "colab_type": "code",
        "id": "l4hkDU3i7ozi",
        "colab": {}
      },
      "source": [
        "sequences = char_dataset.batch(seq_length+1, drop_remainder=True)\n",
        "\n",
        "for item in sequences.take(5):\n",
        "  print(repr(''.join(idx2char[item.numpy()])))"
      ],
      "execution_count": 0,
      "outputs": []
    },
    {
      "cell_type": "markdown",
      "metadata": {
        "colab_type": "text",
        "id": "UbLcIPBj_mWZ"
      },
      "source": [
        "For each sequence, duplicate and shift it to form the input and target text by using the `map` method to apply a simple function to each batch:"
      ]
    },
    {
      "cell_type": "code",
      "metadata": {
        "colab_type": "code",
        "id": "9NGu-FkO_kYU",
        "colab": {}
      },
      "source": [
        "def split_input_target(chunk):\n",
        "    input_text = chunk[:-1]\n",
        "    target_text = chunk[1:]\n",
        "    return input_text, target_text\n",
        "\n",
        "dataset = sequences.map(split_input_target)"
      ],
      "execution_count": 0,
      "outputs": []
    },
    {
      "cell_type": "markdown",
      "metadata": {
        "colab_type": "text",
        "id": "hiCopyGZymwi"
      },
      "source": [
        "Print the first examples input and target values:"
      ]
    },
    {
      "cell_type": "code",
      "metadata": {
        "colab_type": "code",
        "id": "GNbw-iR0ymwj",
        "colab": {}
      },
      "source": [
        "for input_example, target_example in  dataset.take(1):\n",
        "  print ('Input data: ', repr(''.join(idx2char[input_example.numpy()])))\n",
        "  print ('Target data:', repr(''.join(idx2char[target_example.numpy()])))"
      ],
      "execution_count": 0,
      "outputs": []
    },
    {
      "cell_type": "markdown",
      "metadata": {
        "colab_type": "text",
        "id": "_33OHL3b84i0"
      },
      "source": [
        "Each index of these vectors are processed as one time step. For the input at time step 0, the model receives the index for \"F\" and trys to predict the index for \"i\" as the next character. At the next timestep, it does the same thing but the `RNN` considers the previous step context in addition to the current input character."
      ]
    },
    {
      "cell_type": "code",
      "metadata": {
        "colab_type": "code",
        "id": "0eBu9WZG84i0",
        "colab": {}
      },
      "source": [
        "for i, (input_idx, target_idx) in enumerate(zip(input_example[:5], target_example[:5])):\n",
        "    print(\"Step {:4d}\".format(i))\n",
        "    print(\"  input: {} ({:s})\".format(input_idx, repr(idx2char[input_idx])))\n",
        "    print(\"  expected output: {} ({:s})\".format(target_idx, repr(idx2char[target_idx])))"
      ],
      "execution_count": 0,
      "outputs": []
    },
    {
      "cell_type": "markdown",
      "metadata": {
        "colab_type": "text",
        "id": "MJdfPmdqzf-R"
      },
      "source": [
        "### Create training batches\n",
        "\n",
        "We used `tf.data` to split the text into manageable sequences. But before feeding this data into the model, we need to shuffle the data and pack it into batches."
      ]
    },
    {
      "cell_type": "code",
      "metadata": {
        "colab_type": "code",
        "id": "p2pGotuNzf-S",
        "colab": {}
      },
      "source": [
        "# Batch size\n",
        "BATCH_SIZE = 32\n",
        "\n",
        "# Buffer size to shuffle the dataset\n",
        "# (TF data is designed to work with possibly infinite sequences,\n",
        "# so it doesn't attempt to shuffle the entire sequence in memory. Instead,\n",
        "# it maintains a buffer in which it shuffles elements).\n",
        "BUFFER_SIZE = 10000\n",
        "\n",
        "dataset = dataset.shuffle(BUFFER_SIZE).batch(BATCH_SIZE, drop_remainder=True)\n",
        "\n",
        "dataset"
      ],
      "execution_count": 0,
      "outputs": []
    },
    {
      "cell_type": "markdown",
      "metadata": {
        "colab_type": "text",
        "id": "r6oUuElIMgVx"
      },
      "source": [
        "## Build The Model"
      ]
    },
    {
      "cell_type": "markdown",
      "metadata": {
        "colab_type": "text",
        "id": "m8gPwEjRzf-Z"
      },
      "source": [
        "Use `tf.keras.Sequential` to define the model. For this simple example three layers are used to define our model:\n",
        "\n",
        "* `tf.keras.layers.Embedding`: The input layer. A trainable lookup table that will map the numbers of each character to a vector with `embedding_dim` dimensions;\n",
        "* `tf.keras.layers.GRU`: A type of RNN with size `units=rnn_units` (You can also use a LSTM layer here.)\n",
        "* `tf.keras.layers.Dense`: The output layer, with `vocab_size` outputs."
      ]
    },
    {
      "cell_type": "code",
      "metadata": {
        "colab_type": "code",
        "id": "zHT8cLh7EAsg",
        "colab": {}
      },
      "source": [
        "# Length of the vocabulary in chars\n",
        "vocab_size = len(vocab)\n",
        "\n",
        "# The embedding dimension\n",
        "embedding_dim = 32\n",
        "\n",
        "# Number of RNN units\n",
        "rnn_units = 1024"
      ],
      "execution_count": 0,
      "outputs": []
    },
    {
      "cell_type": "code",
      "metadata": {
        "colab_type": "code",
        "id": "MtCrdfzEI2N0",
        "colab": {}
      },
      "source": [
        "def build_model(vocab_size, embedding_dim, rnn_units, batch_size):\n",
        "  model = tf.keras.Sequential([\n",
        "    tf.keras.layers.Embedding(vocab_size, embedding_dim,\n",
        "                              batch_input_shape=[batch_size, None]),\n",
        "    tf.keras.layers.LSTM(rnn_units,\n",
        "                        return_sequences=True,\n",
        "                        stateful=True,\n",
        "                        recurrent_initializer='glorot_uniform'),\n",
        "    tf.keras.layers.Dense(vocab_size)\n",
        "  ])\n",
        "  return model"
      ],
      "execution_count": 0,
      "outputs": []
    },
    {
      "cell_type": "code",
      "metadata": {
        "colab_type": "code",
        "id": "wwsrpOik5zhv",
        "colab": {}
      },
      "source": [
        "model = build_model(\n",
        "  vocab_size = len(vocab),\n",
        "  embedding_dim=embedding_dim,\n",
        "  rnn_units=rnn_units,\n",
        "  batch_size=BATCH_SIZE)"
      ],
      "execution_count": 0,
      "outputs": []
    },
    {
      "cell_type": "markdown",
      "metadata": {
        "colab_type": "text",
        "id": "RkA5upJIJ7W7"
      },
      "source": [
        "For each character the model looks up the embedding, runs the GRU one timestep with the embedding as input, and applies the dense layer to generate logits predicting the log-liklihood of the next character:"
      ]
    },
    {
      "cell_type": "markdown",
      "metadata": {
        "colab_type": "text",
        "id": "-ubPo0_9Prjb"
      },
      "source": [
        "## Try the model\n",
        "\n",
        "Now run the model to see that it behaves as expected.\n",
        "\n",
        "First check the shape of the output:"
      ]
    },
    {
      "cell_type": "code",
      "metadata": {
        "colab_type": "code",
        "id": "C-_70kKAPrPU",
        "colab": {}
      },
      "source": [
        "for input_example_batch, target_example_batch in dataset.take(1):\n",
        "    example_batch_predictions = model(input_example_batch)\n",
        "    print(example_batch_predictions.shape, \"# (batch_size, sequence_length, vocab_size)\")"
      ],
      "execution_count": 0,
      "outputs": []
    },
    {
      "cell_type": "markdown",
      "metadata": {
        "colab_type": "text",
        "id": "Q6NzLBi4VM4o"
      },
      "source": [
        "In the above example the sequence length of the input is `100` but the model can be run on inputs of any length:"
      ]
    },
    {
      "cell_type": "code",
      "metadata": {
        "colab_type": "code",
        "id": "vPGmAAXmVLGC",
        "colab": {}
      },
      "source": [
        "model.summary()"
      ],
      "execution_count": 0,
      "outputs": []
    },
    {
      "cell_type": "code",
      "metadata": {
        "colab_type": "code",
        "id": "4V4MfFg0RQJg",
        "colab": {}
      },
      "source": [
        "print(example_batch_predictions.shape)\n",
        "sampled_indices = tf.random.categorical(example_batch_predictions[0], num_samples=1)\n",
        "print(sampled_indices.shape)\n",
        "sampled_indices = tf.squeeze(sampled_indices,axis=-1).numpy()\n",
        "print(sampled_indices.shape)"
      ],
      "execution_count": 0,
      "outputs": []
    },
    {
      "cell_type": "markdown",
      "metadata": {
        "colab_type": "text",
        "id": "QM1Vbxs_URw5"
      },
      "source": [
        "This gives us, at each timestep, a prediction of the next character index:"
      ]
    },
    {
      "cell_type": "code",
      "metadata": {
        "colab_type": "code",
        "id": "YqFMUQc_UFgM",
        "colab": {}
      },
      "source": [
        "sampled_indices"
      ],
      "execution_count": 0,
      "outputs": []
    },
    {
      "cell_type": "markdown",
      "metadata": {
        "colab_type": "text",
        "id": "LfLtsP3mUhCG"
      },
      "source": [
        "Decode these to see the text predicted by this untrained model:"
      ]
    },
    {
      "cell_type": "code",
      "metadata": {
        "colab_type": "code",
        "id": "xWcFwPwLSo05",
        "colab": {}
      },
      "source": [
        "print(\"Input: \\n\", repr(\"\".join(idx2char[input_example_batch[0]])))\n",
        "print(\"\\n\")\n",
        "print(\"Next Char Predictions: \\n\", repr(\"\".join(idx2char[sampled_indices ])))"
      ],
      "execution_count": 0,
      "outputs": []
    },
    {
      "cell_type": "markdown",
      "metadata": {
        "colab_type": "text",
        "id": "LJL0Q0YPY6Ee"
      },
      "source": [
        "## Train the model"
      ]
    },
    {
      "cell_type": "markdown",
      "metadata": {
        "colab_type": "text",
        "id": "UAjbjY03eiQ4"
      },
      "source": [
        "The standard `tf.keras.losses.sparse_softmax_crossentropy` loss function works in this case because it is applied across the last dimension of the predictions.\n",
        "\n",
        "Because our model returns logits, we need to set the `from_logits` flag.\n"
      ]
    },
    {
      "cell_type": "code",
      "metadata": {
        "colab_type": "code",
        "id": "4HrXTACTdzY-",
        "colab": {}
      },
      "source": [
        "def loss(labels, logits):\n",
        "  return tf.keras.losses.sparse_categorical_crossentropy(labels, logits, from_logits=True)\n",
        "\n",
        "example_batch_loss  = loss(target_example_batch, example_batch_predictions)\n",
        "print(\"Prediction shape: \", example_batch_predictions.shape, \" # (batch_size, sequence_length, vocab_size)\")\n",
        "print(\"scalar_loss:      \", example_batch_loss.numpy().mean())"
      ],
      "execution_count": 0,
      "outputs": []
    },
    {
      "cell_type": "markdown",
      "metadata": {
        "colab_type": "text",
        "id": "jeOXriLcymww"
      },
      "source": [
        "Configure the training procedure using the `tf.keras.Model.compile` method. We'll use `tf.keras.optimizers.Adam` with default arguments and the loss function."
      ]
    },
    {
      "cell_type": "code",
      "metadata": {
        "colab_type": "code",
        "id": "DDl1_Een6rL0",
        "colab": {}
      },
      "source": [
        "optimizer = tf.keras.optimizers.Adam()"
      ],
      "execution_count": 0,
      "outputs": []
    },
    {
      "cell_type": "markdown",
      "metadata": {
        "colab_type": "text",
        "id": "ieSJdchZggUj"
      },
      "source": [
        "### Configure checkpoints"
      ]
    },
    {
      "cell_type": "markdown",
      "metadata": {
        "colab_type": "text",
        "id": "ZqU-I_FU-BWo"
      },
      "source": [
        "Use a `tf.keras.callbacks.ModelCheckpoint` to ensure that checkpoints are saved during training:"
      ]
    },
    {
      "cell_type": "code",
      "metadata": {
        "id": "0tbNZCiK-nTd",
        "colab_type": "code",
        "colab": {}
      },
      "source": [
        "# Directory where the checkpoints will be saved\n",
        "checkpoint_dir = './training_checkpoints1'\n",
        "# Name of the checkpoint files\n",
        "checkpoint_prefix = os.path.join(checkpoint_dir, \"ckpt_{epoch}\")\n",
        "\n",
        "checkpoint_callback=tf.keras.callbacks.ModelCheckpoint(\n",
        "    filepath=checkpoint_prefix,\n",
        "    save_weights_only=True)"
      ],
      "execution_count": 0,
      "outputs": []
    },
    {
      "cell_type": "markdown",
      "metadata": {
        "colab_type": "text",
        "id": "3Ky3F_BhgkTW"
      },
      "source": [
        "### Execute the training"
      ]
    },
    {
      "cell_type": "markdown",
      "metadata": {
        "colab_type": "text",
        "id": "IxdOA-rgyGvs"
      },
      "source": [
        "To keep training time reasonable, use 10 epochs to train the model. In Colab, set the runtime to GPU for faster training."
      ]
    },
    {
      "cell_type": "code",
      "metadata": {
        "id": "cshy3tTc-RP2",
        "colab_type": "code",
        "colab": {}
      },
      "source": [
        "@tf.function\n",
        "def train_step(inp, target):\n",
        "  with tf.GradientTape() as tape:\n",
        "    predictions = model(inp)\n",
        "    loss = tf.reduce_mean(\n",
        "        tf.keras.losses.sparse_categorical_crossentropy(\n",
        "            target, predictions, from_logits=True))\n",
        "  grads = tape.gradient(loss, model.trainable_variables)\n",
        "  optimizer.apply_gradients(zip(grads, model.trainable_variables))\n",
        "\n",
        "  return loss"
      ],
      "execution_count": 0,
      "outputs": []
    },
    {
      "cell_type": "code",
      "metadata": {
        "colab_type": "code",
        "id": "UK-hmKjYVoll",
        "outputId": "a5df9864-3d08-48c5-ae82-76dfa0263f2b",
        "colab": {
          "base_uri": "https://localhost:8080/",
          "height": 4267
        }
      },
      "source": [
        "# Training step\n",
        "EPOCHS = 250\n",
        "\n",
        "for epoch in range(EPOCHS):\n",
        "  start = time.time()\n",
        "\n",
        "  # initializing the hidden state at the start of every epoch\n",
        "  # initally hidden is None\n",
        "  hidden = model.reset_states()\n",
        "\n",
        "  for (batch_n, (inp, target)) in enumerate(dataset):\n",
        "    loss = train_step(inp, target)\n",
        "\n",
        "  # saving (checkpoint) the model every 50 epochs\n",
        "  if (epoch + 1) % 50 == 0:\n",
        "    model.save_weights(checkpoint_prefix.format(epoch=epoch))\n",
        "\n",
        "  print ('Epoch {} Loss {:.4f}'.format(epoch+1, loss))\n",
        "#   print ('Time taken for 1 epoch {} sec\\n'.format(time.time() - start))\n",
        "\n",
        "model.save_weights(checkpoint_prefix.format(epoch=epoch))"
      ],
      "execution_count": 0,
      "outputs": [
        {
          "output_type": "stream",
          "text": [
            "Epoch 1 Loss 3.4258\n",
            "Epoch 2 Loss 3.3855\n",
            "Epoch 3 Loss 3.2460\n",
            "Epoch 4 Loss 2.7921\n",
            "Epoch 5 Loss 2.5001\n",
            "Epoch 6 Loss 2.2029\n",
            "Epoch 7 Loss 1.9866\n",
            "Epoch 8 Loss 1.8355\n",
            "Epoch 9 Loss 1.7164\n",
            "Epoch 10 Loss 1.6441\n",
            "Epoch 11 Loss 1.5912\n",
            "Epoch 12 Loss 1.5486\n",
            "Epoch 13 Loss 1.5058\n",
            "Epoch 14 Loss 1.4738\n",
            "Epoch 15 Loss 1.4368\n",
            "Epoch 16 Loss 1.4052\n",
            "Epoch 17 Loss 1.3773\n",
            "Epoch 18 Loss 1.3565\n",
            "Epoch 19 Loss 1.3369\n",
            "Epoch 20 Loss 1.3211\n",
            "Epoch 21 Loss 1.3071\n",
            "Epoch 22 Loss 1.2812\n",
            "Epoch 23 Loss 1.2656\n",
            "Epoch 24 Loss 1.2425\n",
            "Epoch 25 Loss 1.2332\n",
            "Epoch 26 Loss 1.2193\n",
            "Epoch 27 Loss 1.1956\n",
            "Epoch 28 Loss 1.1740\n",
            "Epoch 29 Loss 1.1593\n",
            "Epoch 30 Loss 1.1483\n",
            "Epoch 31 Loss 1.1312\n",
            "Epoch 32 Loss 1.1111\n",
            "Epoch 33 Loss 1.0981\n",
            "Epoch 34 Loss 1.0822\n",
            "Epoch 35 Loss 1.0718\n",
            "Epoch 36 Loss 1.0508\n",
            "Epoch 37 Loss 1.0391\n",
            "Epoch 38 Loss 1.0258\n",
            "Epoch 39 Loss 1.0097\n",
            "Epoch 40 Loss 0.9919\n",
            "Epoch 41 Loss 0.9778\n",
            "Epoch 42 Loss 0.9657\n",
            "Epoch 43 Loss 0.9495\n",
            "Epoch 44 Loss 0.9402\n",
            "Epoch 45 Loss 0.9266\n",
            "Epoch 46 Loss 0.9248\n",
            "Epoch 47 Loss 0.9051\n",
            "Epoch 48 Loss 0.8809\n",
            "Epoch 49 Loss 0.8684\n",
            "Epoch 50 Loss 0.8521\n",
            "Epoch 51 Loss 0.8422\n",
            "Epoch 52 Loss 0.8313\n",
            "Epoch 53 Loss 0.8202\n",
            "Epoch 54 Loss 0.8052\n",
            "Epoch 55 Loss 0.7968\n",
            "Epoch 56 Loss 0.7804\n",
            "Epoch 57 Loss 0.7754\n",
            "Epoch 58 Loss 0.7546\n",
            "Epoch 59 Loss 0.7313\n",
            "Epoch 60 Loss 0.7234\n",
            "Epoch 61 Loss 0.7176\n",
            "Epoch 62 Loss 0.7049\n",
            "Epoch 63 Loss 0.6815\n",
            "Epoch 64 Loss 0.6738\n",
            "Epoch 65 Loss 0.6762\n",
            "Epoch 66 Loss 0.6692\n",
            "Epoch 67 Loss 0.6349\n",
            "Epoch 68 Loss 0.6408\n",
            "Epoch 69 Loss 0.6203\n",
            "Epoch 70 Loss 0.5995\n",
            "Epoch 71 Loss 0.5794\n",
            "Epoch 72 Loss 0.5798\n",
            "Epoch 73 Loss 0.5816\n",
            "Epoch 74 Loss 0.5628\n",
            "Epoch 75 Loss 0.5423\n",
            "Epoch 76 Loss 0.5310\n",
            "Epoch 77 Loss 0.5011\n",
            "Epoch 78 Loss 0.4989\n",
            "Epoch 79 Loss 0.4813\n",
            "Epoch 80 Loss 0.4699\n",
            "Epoch 81 Loss 0.4691\n",
            "Epoch 82 Loss 0.4435\n",
            "Epoch 83 Loss 0.4328\n",
            "Epoch 84 Loss 0.4241\n",
            "Epoch 85 Loss 0.4115\n",
            "Epoch 86 Loss 0.4106\n",
            "Epoch 87 Loss 0.3858\n",
            "Epoch 88 Loss 0.3826\n",
            "Epoch 89 Loss 0.3651\n",
            "Epoch 90 Loss 0.3772\n",
            "Epoch 91 Loss 0.3537\n",
            "Epoch 92 Loss 0.3309\n",
            "Epoch 93 Loss 0.3212\n",
            "Epoch 94 Loss 0.3125\n",
            "Epoch 95 Loss 0.3062\n",
            "Epoch 96 Loss 0.3114\n",
            "Epoch 97 Loss 0.2859\n",
            "Epoch 98 Loss 0.2894\n",
            "Epoch 99 Loss 0.2673\n",
            "Epoch 100 Loss 0.2676\n",
            "Epoch 101 Loss 0.2621\n",
            "Epoch 102 Loss 0.2362\n",
            "Epoch 103 Loss 0.2439\n",
            "Epoch 104 Loss 0.2363\n",
            "Epoch 105 Loss 0.2132\n",
            "Epoch 106 Loss 0.2174\n",
            "Epoch 107 Loss 0.2194\n",
            "Epoch 108 Loss 0.1935\n",
            "Epoch 109 Loss 0.1921\n",
            "Epoch 110 Loss 0.1903\n",
            "Epoch 111 Loss 0.1785\n",
            "Epoch 112 Loss 0.1760\n",
            "Epoch 113 Loss 0.1702\n",
            "Epoch 114 Loss 0.1823\n",
            "Epoch 115 Loss 0.1723\n",
            "Epoch 116 Loss 0.1601\n",
            "Epoch 117 Loss 0.1582\n",
            "Epoch 118 Loss 0.1467\n",
            "Epoch 119 Loss 0.1373\n",
            "Epoch 120 Loss 0.1398\n",
            "Epoch 121 Loss 0.1331\n",
            "Epoch 122 Loss 0.1313\n",
            "Epoch 123 Loss 0.1382\n",
            "Epoch 124 Loss 0.1237\n",
            "Epoch 125 Loss 0.1205\n",
            "Epoch 126 Loss 0.1094\n",
            "Epoch 127 Loss 0.1076\n",
            "Epoch 128 Loss 0.0950\n",
            "Epoch 129 Loss 0.0950\n",
            "Epoch 130 Loss 0.0932\n",
            "Epoch 131 Loss 0.0952\n",
            "Epoch 132 Loss 0.0900\n",
            "Epoch 133 Loss 0.0860\n",
            "Epoch 134 Loss 0.0857\n",
            "Epoch 135 Loss 0.0767\n",
            "Epoch 136 Loss 0.0752\n",
            "Epoch 137 Loss 0.0738\n",
            "Epoch 138 Loss 0.0724\n",
            "Epoch 139 Loss 0.0665\n",
            "Epoch 140 Loss 0.0601\n",
            "Epoch 141 Loss 0.0655\n",
            "Epoch 142 Loss 0.0587\n",
            "Epoch 143 Loss 0.0561\n",
            "Epoch 144 Loss 0.0570\n",
            "Epoch 145 Loss 0.0519\n",
            "Epoch 146 Loss 0.0605\n",
            "Epoch 147 Loss 0.0529\n",
            "Epoch 148 Loss 0.0547\n",
            "Epoch 149 Loss 0.0492\n",
            "Epoch 150 Loss 0.0432\n",
            "Epoch 151 Loss 0.0477\n",
            "Epoch 152 Loss 0.0436\n",
            "Epoch 153 Loss 0.0436\n",
            "Epoch 154 Loss 0.0377\n",
            "Epoch 155 Loss 0.0382\n",
            "Epoch 156 Loss 0.0369\n",
            "Epoch 157 Loss 0.0356\n",
            "Epoch 158 Loss 0.0306\n",
            "Epoch 159 Loss 0.0301\n",
            "Epoch 160 Loss 0.0311\n",
            "Epoch 161 Loss 0.0291\n",
            "Epoch 162 Loss 0.0286\n",
            "Epoch 163 Loss 0.0286\n",
            "Epoch 164 Loss 0.0255\n",
            "Epoch 165 Loss 0.0261\n",
            "Epoch 166 Loss 0.0233\n",
            "Epoch 167 Loss 0.0242\n",
            "Epoch 168 Loss 0.0273\n",
            "Epoch 169 Loss 0.0278\n",
            "Epoch 170 Loss 0.0257\n",
            "Epoch 171 Loss 0.0230\n",
            "Epoch 172 Loss 0.0228\n",
            "Epoch 173 Loss 0.0214\n",
            "Epoch 174 Loss 0.0212\n",
            "Epoch 175 Loss 0.0214\n",
            "Epoch 176 Loss 0.0174\n",
            "Epoch 177 Loss 0.0187\n",
            "Epoch 178 Loss 0.0147\n",
            "Epoch 179 Loss 0.0169\n",
            "Epoch 180 Loss 0.0157\n",
            "Epoch 181 Loss 0.0133\n",
            "Epoch 182 Loss 0.0125\n",
            "Epoch 183 Loss 0.0101\n",
            "Epoch 184 Loss 0.0101\n",
            "Epoch 185 Loss 0.0098\n",
            "Epoch 186 Loss 0.0104\n",
            "Epoch 187 Loss 0.0103\n",
            "Epoch 188 Loss 0.0091\n",
            "Epoch 189 Loss 0.0088\n",
            "Epoch 190 Loss 0.0076\n",
            "Epoch 191 Loss 0.0071\n",
            "Epoch 192 Loss 0.0070\n",
            "Epoch 193 Loss 0.0077\n",
            "Epoch 194 Loss 0.0060\n",
            "Epoch 195 Loss 0.0056\n",
            "Epoch 196 Loss 0.0044\n",
            "Epoch 197 Loss 0.0041\n",
            "Epoch 198 Loss 0.0039\n",
            "Epoch 199 Loss 0.0036\n",
            "Epoch 200 Loss 0.0032\n",
            "Epoch 201 Loss 0.0029\n",
            "Epoch 202 Loss 0.0026\n",
            "Epoch 203 Loss 0.0025\n",
            "Epoch 204 Loss 0.0024\n",
            "Epoch 205 Loss 0.0023\n",
            "Epoch 206 Loss 0.0022\n",
            "Epoch 207 Loss 0.0021\n",
            "Epoch 208 Loss 0.0021\n",
            "Epoch 209 Loss 0.0020\n",
            "Epoch 210 Loss 0.0020\n",
            "Epoch 211 Loss 0.0019\n",
            "Epoch 212 Loss 0.0019\n",
            "Epoch 213 Loss 0.0018\n",
            "Epoch 214 Loss 0.0018\n",
            "Epoch 215 Loss 0.0017\n",
            "Epoch 216 Loss 0.0017\n",
            "Epoch 217 Loss 0.0017\n",
            "Epoch 218 Loss 0.0016\n",
            "Epoch 219 Loss 0.0016\n",
            "Epoch 220 Loss 0.0016\n",
            "Epoch 221 Loss 0.0015\n",
            "Epoch 222 Loss 0.0015\n",
            "Epoch 223 Loss 0.0015\n",
            "Epoch 224 Loss 0.0014\n",
            "Epoch 225 Loss 0.0014\n",
            "Epoch 226 Loss 0.0014\n",
            "Epoch 227 Loss 0.0014\n",
            "Epoch 228 Loss 0.0013\n",
            "Epoch 229 Loss 0.0013\n",
            "Epoch 230 Loss 0.0013\n",
            "Epoch 231 Loss 0.0013\n",
            "Epoch 232 Loss 0.0012\n",
            "Epoch 233 Loss 0.0012\n",
            "Epoch 234 Loss 0.0012\n",
            "Epoch 235 Loss 0.0012\n",
            "Epoch 236 Loss 0.0011\n",
            "Epoch 237 Loss 0.0011\n",
            "Epoch 238 Loss 0.0011\n",
            "Epoch 239 Loss 0.0011\n",
            "Epoch 240 Loss 0.0011\n",
            "Epoch 241 Loss 0.0010\n",
            "Epoch 242 Loss 0.0010\n",
            "Epoch 243 Loss 0.0010\n",
            "Epoch 244 Loss 0.0010\n",
            "Epoch 245 Loss 0.0010\n",
            "Epoch 246 Loss 0.0010\n",
            "Epoch 247 Loss 0.0009\n",
            "Epoch 248 Loss 0.0009\n",
            "Epoch 249 Loss 0.0009\n",
            "Epoch 250 Loss 0.0009\n"
          ],
          "name": "stdout"
        }
      ]
    },
    {
      "cell_type": "markdown",
      "metadata": {
        "colab_type": "text",
        "id": "kKkD5M6eoSiN"
      },
      "source": [
        "## Generate text"
      ]
    },
    {
      "cell_type": "markdown",
      "metadata": {
        "colab_type": "text",
        "id": "JIPcXllKjkdr"
      },
      "source": [
        "### Restore the latest checkpoint"
      ]
    },
    {
      "cell_type": "markdown",
      "metadata": {
        "colab_type": "text",
        "id": "LyeYRiuVjodY"
      },
      "source": [
        "To keep this prediction step simple, use a batch size of 1.\n",
        "\n",
        "Because of the way the RNN state is passed from timestep to timestep, the model only accepts a fixed batch size once built.\n",
        "\n",
        "To run the model with a different `batch_size`, we need to rebuild the model and restore the weights from the checkpoint.\n"
      ]
    },
    {
      "cell_type": "code",
      "metadata": {
        "colab_type": "code",
        "id": "zk2WJ2-XjkGz",
        "colab": {}
      },
      "source": [
        "tf.train.latest_checkpoint(checkpoint_dir)"
      ],
      "execution_count": 0,
      "outputs": []
    },
    {
      "cell_type": "code",
      "metadata": {
        "colab_type": "code",
        "id": "LycQ-ot_jjyu",
        "colab": {}
      },
      "source": [
        "model = build_model(vocab_size, embedding_dim, rnn_units, batch_size=1)\n",
        "\n",
        "model.load_weights(tf.train.latest_checkpoint(checkpoint_dir))\n",
        "\n",
        "model.build(tf.TensorShape([1, None]))"
      ],
      "execution_count": 0,
      "outputs": []
    },
    {
      "cell_type": "code",
      "metadata": {
        "colab_type": "code",
        "id": "71xa6jnYVrAN",
        "colab": {}
      },
      "source": [
        "model.summary()"
      ],
      "execution_count": 0,
      "outputs": []
    },
    {
      "cell_type": "markdown",
      "metadata": {
        "colab_type": "text",
        "id": "DjGz1tDkzf-u"
      },
      "source": [
        "### The prediction loop\n",
        "\n",
        "The following code block generates the text:\n",
        "\n",
        "* It Starts by choosing a start string, initializing the RNN state and setting the number of characters to generate.\n",
        "\n",
        "* Get the prediction distribution of the next character using the start string and the RNN state.\n",
        "\n",
        "* Then, use a categorical distribution to calculate the index of the predicted character. Use this predicted character as our next input to the model.\n",
        "\n",
        "* The RNN state returned by the model is fed back into the model so that it now has more context, instead than only one word. After predicting the next word, the modified RNN states are again fed back into the model, which is how it learns as it gets more context from the previously predicted words.\n",
        "\n",
        "\n",
        "Looking at the generated text, you'll see the model knows when to capitalize, make paragraphs and imitates a Shakespeare-like writing vocabulary. With the small number of training epochs, it has not yet learned to form coherent sentences."
      ]
    },
    {
      "cell_type": "code",
      "metadata": {
        "colab_type": "code",
        "id": "WvuwZBX5Ogfd",
        "colab": {}
      },
      "source": [
        "def generate_text(model, start_string, temperature):\n",
        "  # Evaluation step (generating text using the learned model)\n",
        "\n",
        "  # Number of characters to generate\n",
        "  num_generate = 300\n",
        "\n",
        "  # Converting our start string to numbers (vectorizing)\n",
        "  input_eval = [char2idx[s] for s in start_string]\n",
        "  input_eval = tf.expand_dims(input_eval, 0)\n",
        "\n",
        "  # Empty string to store our results\n",
        "  text_generated = []\n",
        "\n",
        "  # Low temperatures results in more predictable text.\n",
        "  # Higher temperatures results in more surprising text.\n",
        "  # Experiment to find the best setting.\n",
        "\n",
        "  # Here batch size == 1\n",
        "  model.reset_states()\n",
        "  for i in range(num_generate):\n",
        "      predictions = model(input_eval)\n",
        "      # remove the batch dimension\n",
        "      predictions = tf.squeeze(predictions, 0)\n",
        "\n",
        "      # using a categorical distribution to predict the word returned by the model\n",
        "      predictions = predictions / temperature\n",
        "      predicted_id = tf.random.categorical(predictions, num_samples=1)[-1,0].numpy()\n",
        "\n",
        "      # We pass the predicted word as the next input to the model\n",
        "      # along with the previous hidden state\n",
        "      input_eval = tf.expand_dims([predicted_id], 0)\n",
        "\n",
        "      text_generated.append(idx2char[predicted_id])\n",
        "\n",
        "  return (start_string + ''.join(text_generated))"
      ],
      "execution_count": 0,
      "outputs": []
    },
    {
      "cell_type": "markdown",
      "metadata": {
        "colab_type": "text",
        "id": "AM2Uma_-yVIq"
      },
      "source": [
        "The easiest thing you can do to improve the results it to train it for longer (try `EPOCHS=30`).\n",
        "\n",
        "You can also experiment with a different start string, or try adding another RNN layer to improve the model's accuracy, or adjusting the temperature parameter to generate more or less random predictions."
      ]
    },
    {
      "cell_type": "code",
      "metadata": {
        "id": "KM7dSBIt5agJ",
        "colab_type": "code",
        "colab": {}
      },
      "source": [
        "res = generate_text(model, start_string=\"\"\"\n",
        "X\n",
        "\"\"\", temperature=0.5)\n",
        "\n",
        "print(res)\n",
        "play_generated_song(res)"
      ],
      "execution_count": 0,
      "outputs": []
    },
    {
      "cell_type": "code",
      "metadata": {
        "id": "uk_hPWynp7w2",
        "colab_type": "code",
        "colab": {}
      },
      "source": [
        ""
      ],
      "execution_count": 0,
      "outputs": []
    }
  ]
}